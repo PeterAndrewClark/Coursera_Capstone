{
    "cells": [
        {
            "cell_type": "markdown",
            "metadata": {
                "collapsed": true
            },
            "source": "<h1>Data Science Capstone Project</h1>"
        },
        {
            "cell_type": "markdown",
            "metadata": {},
            "source": "<h2>Introduction</h2>"
        },
        {
            "cell_type": "markdown",
            "metadata": {},
            "source": "<p>Covid-19 infections have currently plateaued in NYC. However, preparedness for future waves can be determined by looking at current data. In particular, we know that the most severe cases of Covid-19 require the use of ventilators, which are only supported at hospital facilities. In this report, I'll look at the relationship per zip code in NYC with the number of infections compared to the nearest hospitals. Longterm the city might want to reconsider the allocation of this equipment in order to allow for a faster resonse to future waves of the virus.</p>\n  "
        },
        {
            "cell_type": "markdown",
            "metadata": {},
            "source": "<h2>Data</h2>"
        },
        {
            "cell_type": "markdown",
            "metadata": {},
            "source": "<p>The main data for calculating the rate of covid-19 patients was accumulated by the WHO, CDC, Johns Hopkins, and the New York Times. Each of these sources has setup various github locations. It's anonymized, but does contain the zip code where the infection occurred. I paired this data with zip code data for NYC that also contained the GeoJson data.</p>\n<p>In order to find the hospital information, I first pulled a list of voting locations around NYC using publicly available data from the the New York State registrar. Voting locations are spaced out in order to optimize for population density. Using the location data from these locations, I then used Foursquare to find hospitals within a 1000m radius. This coverage, and using voting locations, ensured that I would collect all data on registered hospitals in the city.</p>\n"
        },
        {
            "cell_type": "markdown",
            "metadata": {},
            "source": "<h2>Methodology</h2>"
        },
        {
            "cell_type": "markdown",
            "metadata": {},
            "source": "<p>When looking at the density of hospitals to the density of coronavirus cases in NYC, I first explored the data released by the New York Times. I grouped the number of cases by borough and looked at overall data. This revealed an initial result of showing the larger number of cases in the outer borough of the city. </p>\n\n<p>Unfortunately, this wasn't nearly enough information. I further looked to see what the mean number of cases per neighborhood, and eventually looked into raw total numbers as percentages of the total infections. It became immediately clear that even in the outer boroughs certain neighborhoods had a higher rate of positive cases. The most obvious examples were Elmhurst, Queens (2,919 infections; 17 nearby hospitals) and Parkside Projects, Bronx; 11 nearby Hospitals). On the opposite side were Midtown East, Manhattan (252 infections; 37 nearby hospitals).</p>\n\n<p>Ultimately, I concluded that mapping this information would reveal the most identifiable clusters and allow for a meta-analysis of the data.</p>"
        },
        {
            "cell_type": "markdown",
            "metadata": {},
            "source": "<h2>Results</h2>"
        },
        {
            "cell_type": "markdown",
            "metadata": {},
            "source": "<img src=\"https://i.imgur.com/e8TnEzH.jpg\">"
        },
        {
            "cell_type": "markdown",
            "metadata": {},
            "source": "<p>The areas of deeper red represent the zip codes of NYC with the highest density of confirmed cases. Incidentally, the three areas of highest confirmed cases in Staten Island, Queens, and the Bronx also represent some of the lowest density of hospitals. This means that patients in those areas are more likely to overwhelm the nearest hospitals, necessitating transfers to other parts of the city or shortage of equipment in the facilities nearest the greatest exposure to the virus.</p>"
        },
        {
            "cell_type": "markdown",
            "metadata": {},
            "source": "<h2>Discussion</h2>"
        },
        {
            "cell_type": "markdown",
            "metadata": {},
            "source": "<p>The data above suggests that equipment for treating these patients might be best used if transferred to areas of the highest density. Particularly, ventilators and PPE, so to slow the spread of virus around hospital workers that are more likely to get infected in those areas.</p>\n\n<p>The main areas where additional resources should be considered are:</p>\n<ul>\n    <li>Parkside Projects, Bronx</li>\n    <li>Elmhurst, Queens</li>\n    <li>Heartland Village, Staten Island</li>\n    <li>Bay Ridge, Brooklyn</li>\n</ul>"
        },
        {
            "cell_type": "markdown",
            "metadata": {},
            "source": "<h2>Conclusions</h2>"
        },
        {
            "cell_type": "markdown",
            "metadata": {},
            "source": "<p>In this project, I wanted to investigate the relationship between hospitals and the locations of Covid-19 infections. I analyzed the locations of those infections as well as the locations of the hospitals in order to find the raw number of both infections and hospitals in areas. I then mapped those data points in order to show that the areas of highest Covid-19 infections also do not have the most nearby hospitals.</p>"
        },
        {
            "cell_type": "code",
            "execution_count": null,
            "metadata": {},
            "outputs": [],
            "source": ""
        }
    ],
    "metadata": {
        "kernelspec": {
            "display_name": "Python 3.6",
            "language": "python",
            "name": "python3"
        },
        "language_info": {
            "codemirror_mode": {
                "name": "ipython",
                "version": 3
            },
            "file_extension": ".py",
            "mimetype": "text/x-python",
            "name": "python",
            "nbconvert_exporter": "python",
            "pygments_lexer": "ipython3",
            "version": "3.6.9"
        }
    },
    "nbformat": 4,
    "nbformat_minor": 1
}