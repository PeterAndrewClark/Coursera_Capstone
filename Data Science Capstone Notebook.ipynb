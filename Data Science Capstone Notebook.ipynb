{
    "cells": [
        {
            "cell_type": "markdown",
            "metadata": {
                "collapsed": true
            },
            "source": "<h1>Data Science Capstone Project</h1>"
        },
        {
            "cell_type": "markdown",
            "metadata": {},
            "source": "<h2>Introduction</h2>"
        },
        {
            "cell_type": "markdown",
            "metadata": {},
            "source": "<p>Covid-19 infections have currently plateaued in NYC. However, preparedness for future waves can be determined by looking at current data. In particular, we know that the most severe cases of Covid-19 require the use of ventilators, which are only supported at hospital facilities. In this report, I'll look at the relationship per zip code in NYC with the number of infections compared to the nearest hospitals. Longterm the city might want to reconsider the allocation of this equipment in order to allow for a faster resonse to future waves of the virus.</p>\n  "
        },
        {
            "cell_type": "markdown",
            "metadata": {},
            "source": "<h2>Data</h2>"
        },
        {
            "cell_type": "markdown",
            "metadata": {},
            "source": "<p>The main data for calculating the rate of covid-19 patients was accumulated by the WHO, CDC, Johns Hopkins, and the New York Times. Each of these sources has setup various github locations. It's anonymized, but does contain the zip code where the infection occurred. I paired this data with zip code data for NYC that also contained the GeoJson data.</p>\n<p>In order to find the hospital information, I first pulled a list of voting locations around NYC using publicly available data from the the New York State registrar. Voting locations are spaced out in order to optimize for population density. Using the location data from these locations, I then used Foursquare to find hospitals within a 1000m radius. This coverage, and using voting locations, ensured that I would collect all data on registered hospitals in the city.</p>\n"
        },
        {
            "cell_type": "code",
            "execution_count": null,
            "metadata": {},
            "outputs": [],
            "source": ""
        }
    ],
    "metadata": {
        "kernelspec": {
            "display_name": "Python 3.6",
            "language": "python",
            "name": "python3"
        },
        "language_info": {
            "codemirror_mode": {
                "name": "ipython",
                "version": 3
            },
            "file_extension": ".py",
            "mimetype": "text/x-python",
            "name": "python",
            "nbconvert_exporter": "python",
            "pygments_lexer": "ipython3",
            "version": "3.6.9"
        }
    },
    "nbformat": 4,
    "nbformat_minor": 1
}