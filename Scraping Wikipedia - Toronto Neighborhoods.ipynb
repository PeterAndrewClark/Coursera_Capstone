{
    "cells": [
        {
            "cell_type": "markdown",
            "metadata": {
                "collapsed": true
            },
            "source": "<h1>Scrape wikipedia for Toronto neighborhood data</h1>"
        },
        {
            "cell_type": "code",
            "execution_count": 2,
            "metadata": {},
            "outputs": [
                {
                    "name": "stdout",
                    "output_type": "stream",
                    "text": "Requirement already satisfied: beautifulsoup4 in /opt/conda/envs/Python36/lib/python3.6/site-packages (4.7.1)\r\nRequirement already satisfied: soupsieve>=1.2 in /opt/conda/envs/Python36/lib/python3.6/site-packages (from beautifulsoup4) (1.7.1)\r\n"
                }
            ],
            "source": "#install beauitful soup and all the other packages\n!pip install beautifulsoup4"
        },
        {
            "cell_type": "code",
            "execution_count": 3,
            "metadata": {},
            "outputs": [
                {
                    "name": "stdout",
                    "output_type": "stream",
                    "text": "Requirement already satisfied: lxml in /opt/conda/envs/Python36/lib/python3.6/site-packages (4.3.1)\r\n"
                }
            ],
            "source": "!pip install lxml"
        },
        {
            "cell_type": "code",
            "execution_count": 7,
            "metadata": {},
            "outputs": [],
            "source": "import requests\nfrom urllib.request import urlopen"
        },
        {
            "cell_type": "code",
            "execution_count": 5,
            "metadata": {},
            "outputs": [],
            "source": "from bs4 import BeautifulSoup"
        },
        {
            "cell_type": "code",
            "execution_count": 6,
            "metadata": {},
            "outputs": [],
            "source": "import numpy as np\nimport pandas as pd"
        },
        {
            "cell_type": "markdown",
            "metadata": {},
            "source": "<h2>Calling the wikipedia page</h2>\n<p>All I'm doing below is trying to get the wikipedia page here for me to start playing with and sorting through.</p>"
        },
        {
            "cell_type": "code",
            "execution_count": 8,
            "metadata": {},
            "outputs": [],
            "source": "#make a function that will pull in the site and parse.\n\ndef getWikipediaPage(site):\n    url = urlopen(site)\n    soup = BeautifulSoup(url,'lxml')\n    return soup"
        },
        {
            "cell_type": "code",
            "execution_count": 9,
            "metadata": {},
            "outputs": [],
            "source": "#Now bring in the wiki page.\n\nwiki = getWikipediaPage('https://en.wikipedia.org/wiki/List_of_postal_codes_of_Canada:_M')"
        },
        {
            "cell_type": "code",
            "execution_count": 11,
            "metadata": {},
            "outputs": [],
            "source": "#I know the class of the table I need is wikitable sortable, so I'm going to pull the tr rows of that.\n\ntable = wiki.find('table', {'class': 'wikitable sortable'})\nrows = table.find_all('tr')\n"
        },
        {
            "cell_type": "code",
            "execution_count": 17,
            "metadata": {},
            "outputs": [],
            "source": "#Now a loop to return all of the rows of tr into a list\n\ndata = []\n\nfor row in rows:\n    cell = row.find_all('td')\n    cell_clean = [cell.text.strip('\\n') for cell in cell]\n    data.append(cell_clean)"
        },
        {
            "cell_type": "code",
            "execution_count": 19,
            "metadata": {},
            "outputs": [
                {
                    "data": {
                        "text/html": "<div>\n<style scoped>\n    .dataframe tbody tr th:only-of-type {\n        vertical-align: middle;\n    }\n\n    .dataframe tbody tr th {\n        vertical-align: top;\n    }\n\n    .dataframe thead th {\n        text-align: right;\n    }\n</style>\n<table border=\"1\" class=\"dataframe\">\n  <thead>\n    <tr style=\"text-align: right;\">\n      <th></th>\n      <th>0</th>\n      <th>1</th>\n      <th>2</th>\n    </tr>\n  </thead>\n  <tbody>\n    <tr>\n      <th>0</th>\n      <td>None</td>\n      <td>None</td>\n      <td>None</td>\n    </tr>\n    <tr>\n      <th>1</th>\n      <td>M1A</td>\n      <td>Not assigned</td>\n      <td></td>\n    </tr>\n    <tr>\n      <th>2</th>\n      <td>M2A</td>\n      <td>Not assigned</td>\n      <td></td>\n    </tr>\n    <tr>\n      <th>3</th>\n      <td>M3A</td>\n      <td>North York</td>\n      <td>Parkwoods</td>\n    </tr>\n    <tr>\n      <th>4</th>\n      <td>M4A</td>\n      <td>North York</td>\n      <td>Victoria Village</td>\n    </tr>\n  </tbody>\n</table>\n</div>",
                        "text/plain": "      0             1                 2\n0  None          None              None\n1   M1A  Not assigned                  \n2   M2A  Not assigned                  \n3   M3A    North York         Parkwoods\n4   M4A    North York  Victoria Village"
                    },
                    "execution_count": 19,
                    "metadata": {},
                    "output_type": "execute_result"
                }
            ],
            "source": "#Read it into a dataframe\n\ndf = pd.DataFrame(data)\ndf.head()"
        },
        {
            "cell_type": "code",
            "execution_count": 20,
            "metadata": {},
            "outputs": [
                {
                    "data": {
                        "text/html": "<div>\n<style scoped>\n    .dataframe tbody tr th:only-of-type {\n        vertical-align: middle;\n    }\n\n    .dataframe tbody tr th {\n        vertical-align: top;\n    }\n\n    .dataframe thead th {\n        text-align: right;\n    }\n</style>\n<table border=\"1\" class=\"dataframe\">\n  <thead>\n    <tr style=\"text-align: right;\">\n      <th></th>\n      <th>Postal_Code</th>\n      <th>Borough</th>\n      <th>Neighborhood</th>\n    </tr>\n  </thead>\n  <tbody>\n    <tr>\n      <th>0</th>\n      <td>None</td>\n      <td>None</td>\n      <td>None</td>\n    </tr>\n    <tr>\n      <th>1</th>\n      <td>M1A</td>\n      <td>Not assigned</td>\n      <td></td>\n    </tr>\n    <tr>\n      <th>2</th>\n      <td>M2A</td>\n      <td>Not assigned</td>\n      <td></td>\n    </tr>\n    <tr>\n      <th>3</th>\n      <td>M3A</td>\n      <td>North York</td>\n      <td>Parkwoods</td>\n    </tr>\n    <tr>\n      <th>4</th>\n      <td>M4A</td>\n      <td>North York</td>\n      <td>Victoria Village</td>\n    </tr>\n  </tbody>\n</table>\n</div>",
                        "text/plain": "  Postal_Code       Borough      Neighborhood\n0        None          None              None\n1         M1A  Not assigned                  \n2         M2A  Not assigned                  \n3         M3A    North York         Parkwoods\n4         M4A    North York  Victoria Village"
                    },
                    "execution_count": 20,
                    "metadata": {},
                    "output_type": "execute_result"
                }
            ],
            "source": "#Should probably add headers\n\ndf.columns = ['Postal_Code','Borough','Neighborhood']\ndf.head()"
        },
        {
            "cell_type": "code",
            "execution_count": 23,
            "metadata": {},
            "outputs": [
                {
                    "data": {
                        "text/html": "<div>\n<style scoped>\n    .dataframe tbody tr th:only-of-type {\n        vertical-align: middle;\n    }\n\n    .dataframe tbody tr th {\n        vertical-align: top;\n    }\n\n    .dataframe thead th {\n        text-align: right;\n    }\n</style>\n<table border=\"1\" class=\"dataframe\">\n  <thead>\n    <tr style=\"text-align: right;\">\n      <th></th>\n      <th>Postal_Code</th>\n      <th>Borough</th>\n      <th>Neighborhood</th>\n    </tr>\n  </thead>\n  <tbody>\n    <tr>\n      <th>0</th>\n      <td>None</td>\n      <td>None</td>\n      <td>None</td>\n    </tr>\n    <tr>\n      <th>1</th>\n      <td>M1A</td>\n      <td>Not assigned</td>\n      <td></td>\n    </tr>\n    <tr>\n      <th>2</th>\n      <td>M2A</td>\n      <td>Not assigned</td>\n      <td></td>\n    </tr>\n    <tr>\n      <th>3</th>\n      <td>M3A</td>\n      <td>North York</td>\n      <td>Parkwoods</td>\n    </tr>\n    <tr>\n      <th>4</th>\n      <td>M4A</td>\n      <td>North York</td>\n      <td>Victoria Village</td>\n    </tr>\n    <tr>\n      <th>5</th>\n      <td>M5A</td>\n      <td>Downtown Toronto</td>\n      <td>Regent Park / Harbourfront</td>\n    </tr>\n    <tr>\n      <th>6</th>\n      <td>M6A</td>\n      <td>North York</td>\n      <td>Lawrence Manor / Lawrence Heights</td>\n    </tr>\n    <tr>\n      <th>7</th>\n      <td>M7A</td>\n      <td>Downtown Toronto</td>\n      <td>Queen's Park / Ontario Provincial Government</td>\n    </tr>\n    <tr>\n      <th>8</th>\n      <td>M8A</td>\n      <td>Not assigned</td>\n      <td></td>\n    </tr>\n    <tr>\n      <th>9</th>\n      <td>M9A</td>\n      <td>Etobicoke</td>\n      <td>Islington Avenue</td>\n    </tr>\n    <tr>\n      <th>10</th>\n      <td>M1B</td>\n      <td>Scarborough</td>\n      <td>Malvern / Rouge</td>\n    </tr>\n    <tr>\n      <th>11</th>\n      <td>M2B</td>\n      <td>Not assigned</td>\n      <td></td>\n    </tr>\n    <tr>\n      <th>12</th>\n      <td>M3B</td>\n      <td>North York</td>\n      <td>Don Mills</td>\n    </tr>\n    <tr>\n      <th>13</th>\n      <td>M4B</td>\n      <td>East York</td>\n      <td>Parkview Hill / Woodbine Gardens</td>\n    </tr>\n    <tr>\n      <th>14</th>\n      <td>M5B</td>\n      <td>Downtown Toronto</td>\n      <td>Garden District, Ryerson</td>\n    </tr>\n    <tr>\n      <th>15</th>\n      <td>M6B</td>\n      <td>North York</td>\n      <td>Glencairn</td>\n    </tr>\n    <tr>\n      <th>16</th>\n      <td>M7B</td>\n      <td>Not assigned</td>\n      <td></td>\n    </tr>\n    <tr>\n      <th>17</th>\n      <td>M8B</td>\n      <td>Not assigned</td>\n      <td></td>\n    </tr>\n    <tr>\n      <th>18</th>\n      <td>M9B</td>\n      <td>Etobicoke</td>\n      <td>West Deane Park / Princess Gardens / Martin Gr...</td>\n    </tr>\n    <tr>\n      <th>19</th>\n      <td>M1C</td>\n      <td>Scarborough</td>\n      <td>Rouge Hill / Port Union / Highland Creek</td>\n    </tr>\n    <tr>\n      <th>20</th>\n      <td>M2C</td>\n      <td>Not assigned</td>\n      <td></td>\n    </tr>\n    <tr>\n      <th>21</th>\n      <td>M3C</td>\n      <td>North York</td>\n      <td>Don Mills</td>\n    </tr>\n    <tr>\n      <th>22</th>\n      <td>M4C</td>\n      <td>East York</td>\n      <td>Woodbine Heights</td>\n    </tr>\n    <tr>\n      <th>23</th>\n      <td>M5C</td>\n      <td>Downtown Toronto</td>\n      <td>St. James Town</td>\n    </tr>\n    <tr>\n      <th>24</th>\n      <td>M6C</td>\n      <td>York</td>\n      <td>Humewood-Cedarvale</td>\n    </tr>\n    <tr>\n      <th>25</th>\n      <td>M7C</td>\n      <td>Not assigned</td>\n      <td></td>\n    </tr>\n    <tr>\n      <th>26</th>\n      <td>M8C</td>\n      <td>Not assigned</td>\n      <td></td>\n    </tr>\n    <tr>\n      <th>27</th>\n      <td>M9C</td>\n      <td>Etobicoke</td>\n      <td>Eringate / Bloordale Gardens / Old Burnhamthor...</td>\n    </tr>\n    <tr>\n      <th>28</th>\n      <td>M1E</td>\n      <td>Scarborough</td>\n      <td>Guildwood / Morningside / West Hill</td>\n    </tr>\n    <tr>\n      <th>29</th>\n      <td>M2E</td>\n      <td>Not assigned</td>\n      <td></td>\n    </tr>\n    <tr>\n      <th>...</th>\n      <td>...</td>\n      <td>...</td>\n      <td>...</td>\n    </tr>\n    <tr>\n      <th>151</th>\n      <td>M7W</td>\n      <td>Not assigned</td>\n      <td></td>\n    </tr>\n    <tr>\n      <th>152</th>\n      <td>M8W</td>\n      <td>Etobicoke</td>\n      <td>Alderwood / Long Branch</td>\n    </tr>\n    <tr>\n      <th>153</th>\n      <td>M9W</td>\n      <td>Etobicoke</td>\n      <td>Northwest</td>\n    </tr>\n    <tr>\n      <th>154</th>\n      <td>M1X</td>\n      <td>Scarborough</td>\n      <td>Upper Rouge</td>\n    </tr>\n    <tr>\n      <th>155</th>\n      <td>M2X</td>\n      <td>Not assigned</td>\n      <td></td>\n    </tr>\n    <tr>\n      <th>156</th>\n      <td>M3X</td>\n      <td>Not assigned</td>\n      <td></td>\n    </tr>\n    <tr>\n      <th>157</th>\n      <td>M4X</td>\n      <td>Downtown Toronto</td>\n      <td>St. James Town / Cabbagetown</td>\n    </tr>\n    <tr>\n      <th>158</th>\n      <td>M5X</td>\n      <td>Downtown Toronto</td>\n      <td>First Canadian Place / Underground city</td>\n    </tr>\n    <tr>\n      <th>159</th>\n      <td>M6X</td>\n      <td>Not assigned</td>\n      <td></td>\n    </tr>\n    <tr>\n      <th>160</th>\n      <td>M7X</td>\n      <td>Not assigned</td>\n      <td></td>\n    </tr>\n    <tr>\n      <th>161</th>\n      <td>M8X</td>\n      <td>Etobicoke</td>\n      <td>The Kingsway / Montgomery Road  / Old Mill North</td>\n    </tr>\n    <tr>\n      <th>162</th>\n      <td>M9X</td>\n      <td>Not assigned</td>\n      <td></td>\n    </tr>\n    <tr>\n      <th>163</th>\n      <td>M1Y</td>\n      <td>Not assigned</td>\n      <td></td>\n    </tr>\n    <tr>\n      <th>164</th>\n      <td>M2Y</td>\n      <td>Not assigned</td>\n      <td></td>\n    </tr>\n    <tr>\n      <th>165</th>\n      <td>M3Y</td>\n      <td>Not assigned</td>\n      <td></td>\n    </tr>\n    <tr>\n      <th>166</th>\n      <td>M4Y</td>\n      <td>Downtown Toronto</td>\n      <td>Church and Wellesley</td>\n    </tr>\n    <tr>\n      <th>167</th>\n      <td>M5Y</td>\n      <td>Not assigned</td>\n      <td></td>\n    </tr>\n    <tr>\n      <th>168</th>\n      <td>M6Y</td>\n      <td>Not assigned</td>\n      <td></td>\n    </tr>\n    <tr>\n      <th>169</th>\n      <td>M7Y</td>\n      <td>East Toronto</td>\n      <td>Business reply mail Processing CentrE</td>\n    </tr>\n    <tr>\n      <th>170</th>\n      <td>M8Y</td>\n      <td>Etobicoke</td>\n      <td>Old Mill South / King's Mill Park / Sunnylea /...</td>\n    </tr>\n    <tr>\n      <th>171</th>\n      <td>M9Y</td>\n      <td>Not assigned</td>\n      <td></td>\n    </tr>\n    <tr>\n      <th>172</th>\n      <td>M1Z</td>\n      <td>Not assigned</td>\n      <td></td>\n    </tr>\n    <tr>\n      <th>173</th>\n      <td>M2Z</td>\n      <td>Not assigned</td>\n      <td></td>\n    </tr>\n    <tr>\n      <th>174</th>\n      <td>M3Z</td>\n      <td>Not assigned</td>\n      <td></td>\n    </tr>\n    <tr>\n      <th>175</th>\n      <td>M4Z</td>\n      <td>Not assigned</td>\n      <td></td>\n    </tr>\n    <tr>\n      <th>176</th>\n      <td>M5Z</td>\n      <td>Not assigned</td>\n      <td></td>\n    </tr>\n    <tr>\n      <th>177</th>\n      <td>M6Z</td>\n      <td>Not assigned</td>\n      <td></td>\n    </tr>\n    <tr>\n      <th>178</th>\n      <td>M7Z</td>\n      <td>Not assigned</td>\n      <td></td>\n    </tr>\n    <tr>\n      <th>179</th>\n      <td>M8Z</td>\n      <td>Etobicoke</td>\n      <td>Mimico NW / The Queensway West / South of Bloo...</td>\n    </tr>\n    <tr>\n      <th>180</th>\n      <td>M9Z</td>\n      <td>Not assigned</td>\n      <td></td>\n    </tr>\n  </tbody>\n</table>\n<p>181 rows \u00d7 3 columns</p>\n</div>",
                        "text/plain": "    Postal_Code           Borough  \\\n0          None              None   \n1           M1A      Not assigned   \n2           M2A      Not assigned   \n3           M3A        North York   \n4           M4A        North York   \n5           M5A  Downtown Toronto   \n6           M6A        North York   \n7           M7A  Downtown Toronto   \n8           M8A      Not assigned   \n9           M9A         Etobicoke   \n10          M1B       Scarborough   \n11          M2B      Not assigned   \n12          M3B        North York   \n13          M4B         East York   \n14          M5B  Downtown Toronto   \n15          M6B        North York   \n16          M7B      Not assigned   \n17          M8B      Not assigned   \n18          M9B         Etobicoke   \n19          M1C       Scarborough   \n20          M2C      Not assigned   \n21          M3C        North York   \n22          M4C         East York   \n23          M5C  Downtown Toronto   \n24          M6C              York   \n25          M7C      Not assigned   \n26          M8C      Not assigned   \n27          M9C         Etobicoke   \n28          M1E       Scarborough   \n29          M2E      Not assigned   \n..          ...               ...   \n151         M7W      Not assigned   \n152         M8W         Etobicoke   \n153         M9W         Etobicoke   \n154         M1X       Scarborough   \n155         M2X      Not assigned   \n156         M3X      Not assigned   \n157         M4X  Downtown Toronto   \n158         M5X  Downtown Toronto   \n159         M6X      Not assigned   \n160         M7X      Not assigned   \n161         M8X         Etobicoke   \n162         M9X      Not assigned   \n163         M1Y      Not assigned   \n164         M2Y      Not assigned   \n165         M3Y      Not assigned   \n166         M4Y  Downtown Toronto   \n167         M5Y      Not assigned   \n168         M6Y      Not assigned   \n169         M7Y      East Toronto   \n170         M8Y         Etobicoke   \n171         M9Y      Not assigned   \n172         M1Z      Not assigned   \n173         M2Z      Not assigned   \n174         M3Z      Not assigned   \n175         M4Z      Not assigned   \n176         M5Z      Not assigned   \n177         M6Z      Not assigned   \n178         M7Z      Not assigned   \n179         M8Z         Etobicoke   \n180         M9Z      Not assigned   \n\n                                          Neighborhood  \n0                                                 None  \n1                                                       \n2                                                       \n3                                            Parkwoods  \n4                                     Victoria Village  \n5                           Regent Park / Harbourfront  \n6                    Lawrence Manor / Lawrence Heights  \n7         Queen's Park / Ontario Provincial Government  \n8                                                       \n9                                     Islington Avenue  \n10                                     Malvern / Rouge  \n11                                                      \n12                                           Don Mills  \n13                    Parkview Hill / Woodbine Gardens  \n14                            Garden District, Ryerson  \n15                                           Glencairn  \n16                                                      \n17                                                      \n18   West Deane Park / Princess Gardens / Martin Gr...  \n19            Rouge Hill / Port Union / Highland Creek  \n20                                                      \n21                                           Don Mills  \n22                                    Woodbine Heights  \n23                                      St. James Town  \n24                                  Humewood-Cedarvale  \n25                                                      \n26                                                      \n27   Eringate / Bloordale Gardens / Old Burnhamthor...  \n28                 Guildwood / Morningside / West Hill  \n29                                                      \n..                                                 ...  \n151                                                     \n152                            Alderwood / Long Branch  \n153                                          Northwest  \n154                                        Upper Rouge  \n155                                                     \n156                                                     \n157                       St. James Town / Cabbagetown  \n158            First Canadian Place / Underground city  \n159                                                     \n160                                                     \n161   The Kingsway / Montgomery Road  / Old Mill North  \n162                                                     \n163                                                     \n164                                                     \n165                                                     \n166                               Church and Wellesley  \n167                                                     \n168                                                     \n169              Business reply mail Processing CentrE  \n170  Old Mill South / King's Mill Park / Sunnylea /...  \n171                                                     \n172                                                     \n173                                                     \n174                                                     \n175                                                     \n176                                                     \n177                                                     \n178                                                     \n179  Mimico NW / The Queensway West / South of Bloo...  \n180                                                     \n\n[181 rows x 3 columns]"
                    },
                    "execution_count": 23,
                    "metadata": {},
                    "output_type": "execute_result"
                }
            ],
            "source": "#printing to match the table \n\ndf"
        },
        {
            "cell_type": "code",
            "execution_count": null,
            "metadata": {},
            "outputs": [],
            "source": ""
        }
    ],
    "metadata": {
        "kernelspec": {
            "display_name": "Python 3.6",
            "language": "python",
            "name": "python3"
        },
        "language_info": {
            "codemirror_mode": {
                "name": "ipython",
                "version": 3
            },
            "file_extension": ".py",
            "mimetype": "text/x-python",
            "name": "python",
            "nbconvert_exporter": "python",
            "pygments_lexer": "ipython3",
            "version": "3.6.9"
        }
    },
    "nbformat": 4,
    "nbformat_minor": 1
}